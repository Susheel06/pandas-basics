{
  "nbformat": 4,
  "nbformat_minor": 0,
  "metadata": {
    "colab": {
      "name": "Basics of PANDAS.ipynb",
      "provenance": [],
      "collapsed_sections": [],
      "authorship_tag": "ABX9TyMaAffXp403SxzFNVAWw5xt",
      "include_colab_link": true
    },
    "kernelspec": {
      "name": "python3",
      "display_name": "Python 3"
    }
  },
  "cells": [
    {
      "cell_type": "markdown",
      "metadata": {
        "id": "view-in-github",
        "colab_type": "text"
      },
      "source": [
        "<a href=\"https://colab.research.google.com/github/Susheel06/pandas-basics/blob/master/Basics_of_PANDAS.ipynb\" target=\"_parent\"><img src=\"https://colab.research.google.com/assets/colab-badge.svg\" alt=\"Open In Colab\"/></a>"
      ]
    },
    {
      "cell_type": "markdown",
      "metadata": {
        "id": "JUlg1cJoiJy9",
        "colab_type": "text"
      },
      "source": [
        "##Tutorial on using **PANDAS** libary in Python:"
      ]
    },
    {
      "cell_type": "markdown",
      "metadata": {
        "id": "7oN7XoGUiZXj",
        "colab_type": "text"
      },
      "source": [
        "####1) Importing required libraries:"
      ]
    },
    {
      "cell_type": "code",
      "metadata": {
        "id": "c5UgUewxiAsO",
        "colab_type": "code",
        "colab": {}
      },
      "source": [
        "import pandas as pd"
      ],
      "execution_count": 0,
      "outputs": []
    },
    {
      "cell_type": "markdown",
      "metadata": {
        "id": "uCrFGq0kigE_",
        "colab_type": "text"
      },
      "source": [
        "####2) Creating a data frame:\n",
        "\n",
        "*Dataframe is a two-dimensional size-mutable, tabular data structure with labeled axes i.e., name given to each Column in the table. So here, we have hard-coded a table using pandas dataframe.*\n",
        "\n",
        "\n",
        "```\n",
        "pd.DataFrame(\n",
        "    1. Contains table values denoted by 2D List.\n",
        "      Example: [[1, 2, ... , 26], ... , [23, 34, ... , 54]]\n",
        "      Note: List are mutable in phython where tuples are not.\n",
        "    2. Put the index values as \"index=[0, 1, ... , n]\"\n",
        "    3. Give the title for each column created as \"columns=['a', 'b', ... , 'z']\"\n",
        ")\n",
        "\n",
        "```\n",
        "*Check the below example for better understanding.*\n",
        "\n",
        "      \n"
      ]
    },
    {
      "cell_type": "code",
      "metadata": {
        "id": "QXXHSFEkiXeg",
        "colab_type": "code",
        "colab": {}
      },
      "source": [
        "df = pd.DataFrame([['Jan', 'winter', 21, 12], \n",
        "                   ['Feb', 'winter', 23, 15], \n",
        "                   ['March', 'Spring', 26, 18], \n",
        "                   ['April', 'Spring', 28, 20], \n",
        "                   ['May', 'Summer', 30, 25], \n",
        "                   ['June', 'Summer', 37, 28], \n",
        "                   ['July','Summer', 43, 32],\n",
        "                   ['August', 'Rainy', 36, 27],\n",
        "                   ['September', 'Rainy', 33, 26],\n",
        "                   ['Octoboer', 'Rainy', 30, 24],\n",
        "                   ['November', 'Winter', 27, 19],\n",
        "                   ['December', 'Winter', 20, 11]], \n",
        "                  index = [0, 1, 2, 3, 4, 5, 6, 7, 8, 9, 10, 11], \n",
        "                  columns = ['Months', 'Climate', 'Temp_MAX', 'Temp_MIN'])\n",
        "print(df)"
      ],
      "execution_count": 0,
      "outputs": []
    },
    {
      "cell_type": "markdown",
      "metadata": {
        "id": "5UddN59ydkCG",
        "colab_type": "text"
      },
      "source": [
        "*Else you can import data from .csv file in pandas as a data frame as follows:*"
      ]
    },
    {
      "cell_type": "code",
      "metadata": {
        "id": "vKKl_G1Zdpt3",
        "colab_type": "code",
        "colab": {}
      },
      "source": [
        "df = pd.read_csv('file_location/file_name.csv')"
      ],
      "execution_count": 0,
      "outputs": []
    },
    {
      "cell_type": "markdown",
      "metadata": {
        "id": "iLJmNEMIl_Rg",
        "colab_type": "text"
      },
      "source": [
        "####3) Getting to know how about ***HEAD*** and ***TAIL*** function in Pandas:"
      ]
    },
    {
      "cell_type": "code",
      "metadata": {
        "id": "0pNe7-RikRQM",
        "colab_type": "code",
        "colab": {}
      },
      "source": [
        "print(df.head(3))                                                               # fn returns top 3 values in the data frame\n",
        "print('\\n')\n",
        "print(df.tail())                                                                #function returns bottom 5 values in the data frame"
      ],
      "execution_count": 0,
      "outputs": []
    },
    {
      "cell_type": "markdown",
      "metadata": {
        "id": "UfOA5a_km-zt",
        "colab_type": "text"
      },
      "source": [
        "####4) Dataframe insights:"
      ]
    },
    {
      "cell_type": "code",
      "metadata": {
        "id": "yYEBC3ygm_Bi",
        "colab_type": "code",
        "colab": {}
      },
      "source": [
        "print(df.dtypes)                                                                #fn returns data types of values in the every column\n",
        "print()\n",
        "\n",
        "print(df.index)                                                                 #fn returns index and its corresponding data type\n",
        "print()\n",
        "\n",
        "print(df.columns)                                                               #fn returns column and its corresponding data type\n",
        "print()\n",
        "\n",
        "print(df.values)                                                                #fn returns only table values without columns and index\n",
        "print()\n",
        "\n",
        "print(df.describe())                                                            #fn returns statistical analysis of the data frame"
      ],
      "execution_count": 0,
      "outputs": []
    },
    {
      "cell_type": "markdown",
      "metadata": {
        "id": "sWF5Oi8PntnH",
        "colab_type": "text"
      },
      "source": [
        "####5) ***Slicing*** Functions:"
      ]
    },
    {
      "cell_type": "code",
      "metadata": {
        "id": "U99RiDOJnt06",
        "colab_type": "code",
        "colab": {}
      },
      "source": [
        "print(df['Climate'])                                                            # OR print(df.Climate)  //  fn to return selected column values\n",
        "print()\n",
        "\n",
        "print(df[['Climate','Temp_MAX']])                                               # fn to return tabular values from two or more column values as per requirements\n",
        "print()\n",
        "\n",
        "print(df[2:5])                                                                  # fn to return tabular values from row 2 to 4. Similar to list/tuple operation in python\n",
        "print()\n",
        "\n",
        "print(df.loc[3:8, ['Climate', 'Temp_MAX']])                                     # fn to return selected rows i.e., from row 3 to 7 and columns i.e., Climate and Temp_MAX values only \n",
        "print()\n",
        "\n",
        "print(df.iloc[3:8, 0:3])                                                        # fn to return selected rows i.e., from row 3 to 7 and column(based on index) values\n",
        "# OR - print(df.iloc[3:8, 0,3])                                                 # Similar to above but values returned only from column 0 and 3 as per example"
      ],
      "execution_count": 0,
      "outputs": []
    },
    {
      "cell_type": "markdown",
      "metadata": {
        "id": "5A5YGKTcT0M1",
        "colab_type": "text"
      },
      "source": [
        "####6) ***Sorting*** Functions:"
      ]
    },
    {
      "cell_type": "code",
      "metadata": {
        "id": "CcSp7PgIT0pz",
        "colab_type": "code",
        "colab": {}
      },
      "source": [
        "print(df.sort_values('Temp_MAX', ascending=True))                               # Sorting based on a column value in ascneding order\n",
        "# OR - print(df.sort_values('Temp_MAX'))\n",
        "print()\n",
        "\n",
        "print(df.sort_values('Temp_MAX', ascending=False))                              # Sorting based on a column value in descneding order"
      ],
      "execution_count": 0,
      "outputs": []
    },
    {
      "cell_type": "markdown",
      "metadata": {
        "id": "euWrS_3ReSj5",
        "colab_type": "text"
      },
      "source": [
        "\n",
        "\n",
        "\n",
        "####7) ***Filtering*** Functions:"
      ]
    },
    {
      "cell_type": "code",
      "metadata": {
        "id": "ku6Wtl14eZex",
        "colab_type": "code",
        "colab": {}
      },
      "source": [
        "print(df[df['Temp_MAX']>30])                                                    # fn returns all row and column values for vector magnitude of 'Temp_MAX' > 30\n",
        "print()\n",
        "\n",
        "print(df[df.Months.isin(['Jan', 'Feb', 'March', 'April'])])                     # fn returns all row and column values of months Jan, Feb, March and April\n",
        "print()"
      ],
      "execution_count": 0,
      "outputs": []
    },
    {
      "cell_type": "markdown",
      "metadata": {
        "id": "lUuhWdpDgmdO",
        "colab_type": "text"
      },
      "source": [
        "####8) ***Updating/Editing*** values in data-frame:   \n",
        "~ to *slicing*"
      ]
    },
    {
      "cell_type": "code",
      "metadata": {
        "id": "YXzRrnJ5gwOI",
        "colab_type": "code",
        "colab": {}
      },
      "source": [
        "print(df[3:4])                                                                  # Printing row 4 initial values\n",
        "print()\n",
        "df.loc[3, ['Temp_MAX']] = 45                                                    # Updating row 4(index=3) and Temp_MAX column from 28 to 45\n",
        "print(df[3:4])                                                                  # Printing row 4 final updated \n",
        "print()\n",
        "\n",
        "print(df)                                                                       # Printing row 4 initial values\n",
        "print()                                                                        \n",
        "df.loc[:, ['Temp_MAX']] = 45                                                    # Updating all row values of Temp_MAX column to 45\n",
        "print(df)                                                                       # Printing row 4 final updated values\n",
        "print()\n",
        "\n",
        "df['Temp_MED'] = (df.Temp_MAX + df.Temp_MIN)/2                                  # Fn to add a new column to our dataframe\n",
        "print(df.head())\n",
        "print()\n",
        "\n",
        "df.rename(columns={'Climate':'Weather'}, inplace=True)                          #Fn to update a column name\n",
        "print(df.head(2))\n",
        "\n",
        "df.columns = ['A', 'B', 'C', 'D', 'E']                                          #Fn to update all the columns name\n",
        "print(df.head(1))"
      ],
      "execution_count": 0,
      "outputs": []
    },
    {
      "cell_type": "markdown",
      "metadata": {
        "id": "ee3DOMyLnlEH",
        "colab_type": "text"
      },
      "source": [
        "####9) ***for_loop*** iteration in Pd:     \n",
        "**NOTE:** *Make sure to run default dataframe else error will occur since the values are updated in the previuos fucnctions.*"
      ]
    },
    {
      "cell_type": "code",
      "metadata": {
        "id": "elm1t63oqWHe",
        "colab_type": "code",
        "colab": {}
      },
      "source": [
        "for index, row in df.iterrows():\n",
        "  print (index, row[\"Months\"], row[\"Climate\"]) "
      ],
      "execution_count": 0,
      "outputs": []
    },
    {
      "cell_type": "markdown",
      "metadata": {
        "id": "-2fgWD_Us3Sy",
        "colab_type": "text"
      },
      "source": [
        "####10) Saving data-frame as .csv file"
      ]
    },
    {
      "cell_type": "code",
      "metadata": {
        "id": "JEu9Drsws3rS",
        "colab_type": "code",
        "colab": {}
      },
      "source": [
        "df.to_csv('file_name.csv')"
      ],
      "execution_count": 0,
      "outputs": []
    }
  ]
}